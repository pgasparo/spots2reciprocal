{
 "cells": [
  {
   "cell_type": "markdown",
   "id": "b5f1632f-938c-4361-a43b-f2426a1ef9f1",
   "metadata": {},
   "source": [
    "## Get an npz to summarize the experiment"
   ]
  },
  {
   "cell_type": "code",
   "execution_count": 3,
   "id": "d4cc527e-5d2c-4bb0-bb89-c71a77482d89",
   "metadata": {},
   "outputs": [],
   "source": [
    "import numpy as np"
   ]
  },
  {
   "cell_type": "markdown",
   "id": "55bc0a41-a0b3-45a4-a73b-9632701d4731",
   "metadata": {},
   "source": [
    "# LOAD EXPERIMENT's INFOs"
   ]
  },
  {
   "cell_type": "code",
   "execution_count": 53,
   "id": "982e463a-ad67-41b6-b811-0e0d6198d9d4",
   "metadata": {},
   "outputs": [],
   "source": [
    "with open(\"XPARM.XDS\",'r+',encoding = 'utf-8') as f:\n",
    "    gg=f.readlines()\n",
    "    \n",
    "starting_angle=np.float(gg[1].split()[1])\n",
    "oscillation_range=np.float(gg[1].split()[2])\n",
    "rot_ax=np.asarray(list(map(np.float,gg[1].split()[3:])))\n",
    "\n",
    "wavelength=np.float(gg[2].split()[0])\n",
    "incident_beam=np.asarray(list(map(np.float,gg[2].split()[1:])))\n",
    "# size of the panel\n",
    "nx=np.int(gg[7].split()[1])      \n",
    "ny=np.int(gg[7].split()[2])\n",
    "# size of the pixels\n",
    "qx=np.float(gg[7].split()[3])\n",
    "qy=np.float(gg[7].split()[4])\n",
    "# beam center in pixels\n",
    "orgx=np.float(gg[8].split()[0])\n",
    "orgy=np.float(gg[8].split()[1])\n",
    "# detector distance in mm\n",
    "det_dist=np.float(gg[8].split()[2])\n",
    "det_x=np.asarray(list(map(np.float,gg[9].split())))\n",
    "det_y=np.asarray(list(map(np.float,gg[10].split())))"
   ]
  },
  {
   "cell_type": "markdown",
   "id": "b57b82e9-1042-478b-b5c4-d8240a52e000",
   "metadata": {},
   "source": [
    "# LOAD SPOT.XDS"
   ]
  },
  {
   "cell_type": "code",
   "execution_count": 6,
   "id": "fbcc1262-69cf-4b41-9202-18d1408c32ed",
   "metadata": {},
   "outputs": [],
   "source": [
    "spotxds=np.loadtxt(\"SPOT.XDS\")"
   ]
  },
  {
   "cell_type": "markdown",
   "id": "ad1f220f-8df9-4b46-b412-6ed0b4448c99",
   "metadata": {},
   "source": [
    "# LOAD XDS_ASCII.HKL"
   ]
  },
  {
   "cell_type": "code",
   "execution_count": 56,
   "id": "8c729313-355a-4849-bb27-eb7c368f54ac",
   "metadata": {},
   "outputs": [],
   "source": [
    "with open(\"XDS_ASCII.HKL\",'r+',encoding = 'utf-8') as f:\n",
    "    gg=f.readlines()"
   ]
  },
  {
   "cell_type": "code",
   "execution_count": 77,
   "id": "00b58cb8-0ca9-4b34-8a38-dc4644049994",
   "metadata": {},
   "outputs": [],
   "source": [
    "ideal=np.asarray([np.hstack([list(map(np.float,np.hstack([line.split()[5:8],line.split()[3]]))),list(map(np.int,line.split()[:3]))]) for line in gg if line[0]!='!'])"
   ]
  },
  {
   "cell_type": "markdown",
   "id": "002105ec-8100-48af-be67-dd30405835b4",
   "metadata": {},
   "source": [
    "# SAVE NPZ"
   ]
  },
  {
   "cell_type": "code",
   "execution_count": 78,
   "id": "ab3451b3-bcf0-45f1-a759-4c6216fc59c5",
   "metadata": {},
   "outputs": [],
   "source": [
    "filename=\"lyso_19_rawspots.npz\"\n",
    "\n",
    "np.savez( filename,\n",
    "          spots=spotxds,\n",
    "          ideal_spots=ideal,\n",
    "          starting_angle=starting_angle,\n",
    "          oscillation_range=oscillation_range,\n",
    "          rot_ax=rot_ax,\n",
    "          wavelength=wavelength,\n",
    "          incident_beam=incident_beam,\n",
    "          nx=nx,      \n",
    "          ny=ny,\n",
    "          qx=qx,\n",
    "          qy=qy,\n",
    "          orgx=orgx,\n",
    "          orgy=orgy,\n",
    "          det_dist=det_dist,\n",
    "          det_x=det_x,\n",
    "          det_y=det_y,\n",
    ")"
   ]
  },
  {
   "cell_type": "code",
   "execution_count": null,
   "id": "70182384-58a1-4c7e-b2f6-611cf5a2d97f",
   "metadata": {},
   "outputs": [],
   "source": []
  }
 ],
 "metadata": {
  "kernelspec": {
   "display_name": "Python 3 (ipykernel)",
   "language": "python",
   "name": "python3"
  },
  "language_info": {
   "codemirror_mode": {
    "name": "ipython",
    "version": 3
   },
   "file_extension": ".py",
   "mimetype": "text/x-python",
   "name": "python",
   "nbconvert_exporter": "python",
   "pygments_lexer": "ipython3",
   "version": "3.7.4"
  }
 },
 "nbformat": 4,
 "nbformat_minor": 5
}
