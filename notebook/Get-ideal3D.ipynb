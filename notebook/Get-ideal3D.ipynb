{
 "cells": [
  {
   "cell_type": "code",
   "execution_count": 14,
   "id": "57045cba-e2f9-425f-a927-578825e7df6f",
   "metadata": {},
   "outputs": [],
   "source": [
    "#importing necessary libraries \n",
    "from tqdm import tqdm\n",
    "import numpy as np\n",
    "import re\n",
    "%matplotlib inline\n",
    "import math\n",
    "\n",
    "import warnings\n",
    "warnings.filterwarnings('ignore')\n",
    "warnings.simplefilter('ignore')\n",
    "\n",
    "# trivial parallelization\n",
    "from joblib import Parallel, delayed\n",
    "import matplotlib.pyplot as plt"
   ]
  },
  {
   "cell_type": "markdown",
   "id": "330267e9-4008-4e6b-b287-8099ad2caf88",
   "metadata": {},
   "source": [
    "# SOME FUNCTIONS TO GET THE 3D FROM XDS FILES"
   ]
  },
  {
   "cell_type": "code",
   "execution_count": 15,
   "id": "b9ae3c76-4e79-4eac-b224-acf2e22923d9",
   "metadata": {},
   "outputs": [],
   "source": [
    "### Ceate frame/spot dictionary\n",
    "\n",
    "# Just round up and down the time, we can extend this to a larger time window\n",
    "def round_time(raw_spots,dt=0):\n",
    "    # try to remove duplicates\n",
    "    # set_of_floats=set(list(map(tuple,raw_spots[:,:3])))\n",
    "    max_frame=int(np.max(raw_spots[:,2]))\n",
    "    expanded_list=[]\n",
    "    for spot in raw_spots:\n",
    "        # round to the time to the earest integer\n",
    "        rounded=np.round(spot[2])\n",
    "        # set the lower bound\n",
    "        min_round=max(0,rounded-dt)\n",
    "        # set the upper bound\n",
    "        max_round=min(rounded+dt+1,max_frame+1)\n",
    "        \n",
    "        for new_time in np.arange(min_round,max_round):\n",
    "            expanded_list.append((spot[0], spot[1], new_time))\n",
    "        \n",
    "    return np.asarray(expanded_list)\n",
    "\n",
    "def match_spots_frame_expanded(predicted,n_frame):\n",
    "    '''\n",
    "    Given the list of spots found by XDS and a specific frame number, \n",
    "    return the list of centers found matching the frame number given\n",
    "    '''\n",
    "    # find all the spots in the same frame\n",
    "    idx_rows=np.where(list(map(int,predicted[:,2]))==n_frame)\n",
    "    tmp_list=predicted[idx_rows,([0],[1])].T\n",
    "    \n",
    "    # I use set to remove possible duplicates\n",
    "    return np.asarray(list(set(list(map(tuple,tmp_list)))))\n",
    "\n",
    "def match_spots_frame_expanded_Parallel(predicted,n_frame,dict_spots):\n",
    "    '''\n",
    "    Given the list of spots found by XDS and a specific frame number, \n",
    "    return the list of centers found matching the frame number given\n",
    "    '''\n",
    "    # find all the spots in the same frame\n",
    "    idx_rows=np.where(list(map(int,predicted[:,2]))==n_frame)\n",
    "    tmp_list=predicted[idx_rows,([0],[1])].T\n",
    "    \n",
    "    # I use set to remove possible duplicates\n",
    "    dict_spots[n_frame]=np.asarray(list(set(list(map(tuple,tmp_list)))))\n",
    "    \n",
    "    return 0\n",
    "\n",
    "# Just round up and down the time, we can extend this to a larger time window\n",
    "def round_time_SPOTXDS(raw_spots,dt=0):\n",
    "    # try to remove duplicates\n",
    "    # set_of_floats=set(list(map(tuple,raw_spots[:,:3])))\n",
    "    max_frame=int(np.max(raw_spots[:,2]))\n",
    "    expanded_list=[]\n",
    "    for spot in raw_spots:\n",
    "        # round to the time to the earest integer\n",
    "        rounded=np.round(spot[2])\n",
    "        # set the lower bound\n",
    "        min_round=max(0,rounded-dt)\n",
    "        # set the upper bound\n",
    "        max_round=min(rounded+dt+1,max_frame+1)\n",
    "        \n",
    "        for new_time in np.arange(min_round,max_round,1):\n",
    "            expanded_list.append((spot[0], spot[1], new_time, spot[-3:]))\n",
    "        \n",
    "    return np.asarray(expanded_list)\n",
    "\n",
    "def get_dict_from_spotlists(spots_reflections_raw):\n",
    "    \"\"\"\n",
    "    get a list of and return a dictionary\n",
    "    \"\"\"\n",
    "    from collections import defaultdict\n",
    "    dict_spots = defaultdict(lambda: [])\n",
    "    \n",
    "    frames=set(spots_reflections_raw[:,2].astype(int))\n",
    "    \n",
    "    min_framenum=min(frames)\n",
    "    \n",
    "    for fr in tqdm(frames):\n",
    "        dict_spots[fr-min_framenum]=match_spots_frame_expanded(spots_reflections_raw,fr)\n",
    "        \n",
    "    return dict_spots\n",
    "\n",
    "def get_dict_from_spotlists_Parallel(spots_reflections_raw, njobs=-1):\n",
    "    \"\"\"\n",
    "    get a list of and return a dictionary\n",
    "    \"\"\"\n",
    "    from collections import defaultdict\n",
    "    dict_spots = defaultdict(lambda: [])\n",
    "    \n",
    "    frames=set(spots_reflections_raw[:,2].astype(int))\n",
    "    \n",
    "    min_framenum=min(frames)\n",
    "    \n",
    "    #for fr in tqdm(frames):\n",
    "    #    dict_spots[fr-min_framenum]=match_spots_frame_expanded(spots_reflections_raw,fr)\n",
    "        \n",
    "    out = Parallel(njobs)(  delayed(match_spots_frame_expanded_Parallel)(spots_reflections_raw,fr,dict_spots) for fr in tqdm(frames) )  \n",
    "        \n",
    "    return dict_spots\n",
    "\n",
    "\n",
    "def get_list_spots_fromfileXDS_Parallel(filename,timerounded=True,shift_min=True,dt=3, njobs=-1):\n",
    "    '''\n",
    "    Load spot centers from a file and return a dictionary where each key\n",
    "    is a frame number\n",
    "    '''\n",
    "    \n",
    "    spots_reflections_raw=np.loadtxt(filename)\n",
    "    \n",
    "    if dt<1 :\n",
    "        spots_reflections_raw[:,2]*=10\n",
    "        \n",
    "    # round only time up and down\n",
    "    if timerounded:\n",
    "        spots_reflections_raw=round_time_SPOTXDS(spots_reflections_raw,dt)\n",
    "        \n",
    "    \n",
    "    # split indexablea and not-indexable frames\n",
    "    \n",
    "    indexable = []\n",
    "    notindexable = []\n",
    "    for sp in spots_reflections_raw:\n",
    "        idxmill=sp[-1].astype(int)\n",
    "        if tuple(idxmill)==(0,0,0):\n",
    "            notindexable.append(sp[:3])\n",
    "        else:\n",
    "            indexable.append(sp[:3])\n",
    "    \n",
    "    #dict_spots_indexable=get_dict_from_spotlists(np.asarray(indexable))\n",
    "    dict_spots_indexable=get_dict_from_spotlists_Parallel(np.asarray(indexable), njobs=-1)\n",
    "    \n",
    "    #dict_spots_notindexable=get_dict_from_spotlists(np.asarray(notindexable))\n",
    "    \n",
    "    \n",
    "    return dict_spots_indexable\n",
    "\n",
    "\n",
    "def get_list_spots_fromfileXDS(filename,timerounded=True,shift_min=True,dt=3):\n",
    "    '''\n",
    "    Load spot centers from a file and return a dictionary where each key\n",
    "    is a frame number\n",
    "    '''\n",
    "    \n",
    "    spots_reflections_raw=np.loadtxt(filename)\n",
    "    \n",
    "    if dt<1 :\n",
    "        spots_reflections_raw[:,2]*=10\n",
    "        spots_reflections_raw=round_time_SPOTXDS(spots_reflections_raw,dt*10)\n",
    "    else:\n",
    "        # round only time up and down\n",
    "        if timerounded:\n",
    "            spots_reflections_raw=round_time_SPOTXDS(spots_reflections_raw,dt)\n",
    "        \n",
    "    \n",
    "    # split indexablea and not-indexable frames\n",
    "    \n",
    "    indexable = []\n",
    "    notindexable = []\n",
    "    for sp in spots_reflections_raw:\n",
    "        idxmill=sp[-1].astype(int)\n",
    "        if tuple(idxmill)==(0,0,0):\n",
    "            notindexable.append(sp[:3])\n",
    "        else:\n",
    "            indexable.append(sp[:3])\n",
    "    \n",
    "    dict_spots_indexable=get_dict_from_spotlists(np.asarray(indexable))\n",
    "    dict_spots_notindexable=get_dict_from_spotlists(np.asarray(notindexable))\n",
    "    \n",
    "    \n",
    "    return dict_spots_indexable, dict_spots_notindexable"
   ]
  },
  {
   "cell_type": "code",
   "execution_count": 44,
   "id": "b607fca6-f648-4c06-9cd9-530b5b69d2df",
   "metadata": {},
   "outputs": [
    {
     "data": {
      "text/plain": [
       "0"
      ]
     },
     "execution_count": 44,
     "metadata": {},
     "output_type": "execute_result"
    }
   ],
   "source": [
    "# REMOVE THE ROTATION!!!\n",
    "os.system(\"awk '{if(NR==2){print $1,$2,\"+'\"'+\"0.0000\"+'\"'+\",$4,$5,$6}else{print $0}}' XPARM.XDS > XPARM_norotation.XDS\")"
   ]
  },
  {
   "cell_type": "markdown",
   "id": "1923b3e9-04e0-4ea0-b63e-73c4aed20b6e",
   "metadata": {},
   "source": [
    "# READ INDEXABLE AND NOT INDEXABLE SPOTS from SPOT.XDS\n",
    "\n",
    "Basically in a SPOT file I expect something like:\n",
    "\n",
    "x, y, FRAME, photon counts, h, k, l \n",
    "\n",
    "If h,k,l==0,0,0 I know that the spot is not a Bragg's reflection"
   ]
  },
  {
   "cell_type": "code",
   "execution_count": 45,
   "id": "8fed192b-7c5b-4324-a688-3cd30dcef73f",
   "metadata": {},
   "outputs": [
    {
     "name": "stderr",
     "output_type": "stream",
     "text": [
      "100%|█████████████████████████████████████████████████████████████████████| 900/900 [00:19<00:00, 45.44it/s]\n",
      "100%|█████████████████████████████████████████████████████████████████████| 900/900 [00:13<00:00, 65.06it/s]\n"
     ]
    }
   ],
   "source": [
    "## ddi = indexable frames\n",
    "## ddni = not indexable frames\n",
    "(ddi,ddni)=get_list_spots_fromfileXDS(\"SPOT-Lyso40.XDS\",timerounded=True,shift_min=True,dt=1)"
   ]
  },
  {
   "cell_type": "markdown",
   "id": "fa5c3cd9-3466-4797-b961-e5ed3a92af9a",
   "metadata": {},
   "source": [
    "## Get those indexable"
   ]
  },
  {
   "cell_type": "code",
   "execution_count": 46,
   "id": "ca47cb10-23a5-47bc-a5c7-0c43b716733e",
   "metadata": {},
   "outputs": [
    {
     "name": "stderr",
     "output_type": "stream",
     "text": [
      "100%|█████████████████████████████████████████████████████████████████████| 900/900 [00:28<00:00, 31.57it/s]\n"
     ]
    },
    {
     "data": {
      "text/plain": [
       "0"
      ]
     },
     "execution_count": 46,
     "metadata": {},
     "output_type": "execute_result"
    }
   ],
   "source": [
    "import os\n",
    "\n",
    "pdbs=[]   \n",
    "for FR in tqdm(ddi.keys()):\n",
    "    ii=np.full(len(ddi[FR]),FR)\n",
    "    oo=np.vstack([ii,ii]).T\n",
    "    rr=np.hstack([ddi[FR],oo])\n",
    "\n",
    "    np.savetxt(\"./SPOTtmp.XDS\",rr)\n",
    "    os.system(\"spot2pdb -r 0.1 -s ./SPOTtmp.XDS -x XPARM_norotation.XDS > /dev/null 2>&1\")\n",
    "    os.system(\"awk '!/ATOM/{{print $0}}' ./SPOT-notindexed.pdb > ./{:06d}.pdb\".format(FR))\n",
    "    #os.system(\"echo 'END' >> ./{:06d}.pdb\".format(FR))\n",
    "    os.system(\"rm ./SPOT-notindexed.pdb ./SPOT-indexed.pdb\")\n",
    "    \n",
    "    pdbtmp=[]\n",
    "    with open(\"./{:06d}.pdb\".format(FR), \"r\") as file:\n",
    "        pdb_lines = file.read()\n",
    "    for line in pdb_lines.split('\\n'):\n",
    "        #print(line)\n",
    "        if len(line)<10:\n",
    "            continue\n",
    "        if (line.split()[0]=='HETATM'):\n",
    "            x=np.float(line[30:38])\n",
    "            y=np.float(line[38:46])\n",
    "            z=np.float(line[46:54])\n",
    "            pdbtmp.append([x,y,z])\n",
    "                    \n",
    "    pdbs.append(pdbtmp)\n",
    "\n",
    "os.system(\"rm 0*.pdb\")\n",
    "os.system(\"rm ./SPOTtmp.XDS\")"
   ]
  },
  {
   "cell_type": "code",
   "execution_count": 18,
   "id": "35663ef5-9486-4c8d-af29-f60eab97455c",
   "metadata": {},
   "outputs": [
    {
     "name": "stdout",
     "output_type": "stream",
     "text": [
      "/home/piero/work/3D-reciprocal/Lyso_40\n"
     ]
    }
   ],
   "source": [
    "!pwd"
   ]
  },
  {
   "cell_type": "markdown",
   "id": "18b4368c-9ddc-4719-9cd5-5766729519a4",
   "metadata": {},
   "source": [
    "### VISUALIZE THE EVOLUTION OF THE SPOTS"
   ]
  },
  {
   "cell_type": "code",
   "execution_count": 19,
   "id": "82d0aeb9-cf4f-4826-9382-45b219fe4e77",
   "metadata": {},
   "outputs": [],
   "source": [
    "import ase\n",
    "traj=[]\n",
    "for fr in pdbs:\n",
    "    traj.append(ase.Atoms(np.full(len(fr),\"C\"),positions=fr))"
   ]
  },
  {
   "cell_type": "code",
   "execution_count": 20,
   "id": "b13e5600-1297-4c81-944b-b09bb99ac904",
   "metadata": {},
   "outputs": [
    {
     "data": {
      "text/plain": [
       "<subprocess.Popen at 0x7f23c163ac50>"
      ]
     },
     "execution_count": 20,
     "metadata": {},
     "output_type": "execute_result"
    }
   ],
   "source": [
    "from ase.visualize import view\n",
    "\n",
    "view(traj)"
   ]
  },
  {
   "cell_type": "markdown",
   "id": "145ad095-bc61-4761-b7e7-ccb2303d3309",
   "metadata": {},
   "source": [
    "### SAVE THE SPOTS"
   ]
  },
  {
   "cell_type": "code",
   "execution_count": 47,
   "id": "032cd001-1c15-4988-8499-fb3a53bf1603",
   "metadata": {},
   "outputs": [],
   "source": [
    "np.save(\"indexable-COLSPOT.npy\",pdbs)"
   ]
  },
  {
   "cell_type": "markdown",
   "id": "6b5026a5-3fed-41ca-9e5f-38cc4b844d13",
   "metadata": {},
   "source": [
    "## Get those not indexable"
   ]
  },
  {
   "cell_type": "code",
   "execution_count": 48,
   "id": "149bbc53-63ad-41bc-b958-40f7c4b1cdde",
   "metadata": {},
   "outputs": [
    {
     "name": "stderr",
     "output_type": "stream",
     "text": [
      "100%|█████████████████████████████████████████████████████████████████████| 900/900 [00:27<00:00, 32.99it/s]\n"
     ]
    },
    {
     "data": {
      "text/plain": [
       "0"
      ]
     },
     "execution_count": 48,
     "metadata": {},
     "output_type": "execute_result"
    }
   ],
   "source": [
    "import os\n",
    "\n",
    "pdbs=[]   \n",
    "for FR in tqdm(ddni.keys()):\n",
    "    ii=np.full(len(ddni[FR]),FR)\n",
    "    oo=np.vstack([ii,ii]).T\n",
    "    rr=np.hstack([ddni[FR],oo])\n",
    "\n",
    "    np.savetxt(\"./SPOTtmp.XDS\",rr)\n",
    "    os.system(\"spot2pdb -r 0.1 -s ./SPOTtmp.XDS -x XPARM_norotation.XDS > /dev/null 2>&1\")\n",
    "    os.system(\"awk '!/ATOM/{{print $0}}' ./SPOT-notindexed.pdb > ./{:06d}.pdb\".format(FR))\n",
    "    #os.system(\"echo 'END' >> ./{:06d}.pdb\".format(FR))\n",
    "    os.system(\"rm ./SPOT-notindexed.pdb ./SPOT-indexed.pdb\")\n",
    "    \n",
    "    pdbtmp=[]\n",
    "    with open(\"./{:06d}.pdb\".format(FR), \"r\") as file:\n",
    "        pdb_lines = file.read()\n",
    "    for line in pdb_lines.split('\\n'):\n",
    "        #print(line)\n",
    "        if len(line)<10:\n",
    "            continue\n",
    "        if (line.split()[0]=='HETATM'):\n",
    "            x=np.float(line[30:38])\n",
    "            y=np.float(line[38:46])\n",
    "            z=np.float(line[46:54])\n",
    "            pdbtmp.append([x,y,z])\n",
    "                    \n",
    "    pdbs.append(pdbtmp)\n",
    "\n",
    "os.system(\"rm 0*.pdb\")\n"
   ]
  },
  {
   "cell_type": "markdown",
   "id": "cb8d9a0a-42de-4a67-ab97-ca0ddbadbf9a",
   "metadata": {},
   "source": [
    "### VISUALIZE THE EVOLUTION OF THE SPOTS"
   ]
  },
  {
   "cell_type": "code",
   "execution_count": 23,
   "id": "db18bcbd-9103-4e53-8763-ea3b1163be29",
   "metadata": {},
   "outputs": [],
   "source": [
    "import ase\n",
    "traj=[]\n",
    "for fr in pdbs:\n",
    "    traj.append(ase.Atoms(np.full(len(fr),\"S\"),positions=fr))"
   ]
  },
  {
   "cell_type": "code",
   "execution_count": 24,
   "id": "51a9e8c1-fbbc-4926-ab80-454bf3455580",
   "metadata": {},
   "outputs": [
    {
     "data": {
      "text/plain": [
       "<subprocess.Popen at 0x7f23c51ba550>"
      ]
     },
     "execution_count": 24,
     "metadata": {},
     "output_type": "execute_result"
    }
   ],
   "source": [
    "from ase.visualize import view\n",
    "\n",
    "view(traj)"
   ]
  },
  {
   "cell_type": "markdown",
   "id": "c697d192-ac7f-460a-a34d-4a62a9e23c99",
   "metadata": {},
   "source": [
    "### SAVE THE SPOTS"
   ]
  },
  {
   "cell_type": "code",
   "execution_count": 49,
   "id": "36b802ed-3780-414e-afcc-a87ed305a286",
   "metadata": {},
   "outputs": [],
   "source": [
    "np.save(\"not-indexable-COLSPOT.npy\",pdbs)"
   ]
  },
  {
   "cell_type": "markdown",
   "id": "7b3c4d92-e586-43b7-a0ac-cae41c11b9d5",
   "metadata": {},
   "source": [
    "# GET IDEAL SPOTS FROM XDS-ASCII"
   ]
  },
  {
   "cell_type": "code",
   "execution_count": 50,
   "id": "6d7f4eb9-c89d-4c36-8b68-0ed56e6037c4",
   "metadata": {},
   "outputs": [],
   "source": [
    "def get_list_spots_fromfile(filename,timerounded=False,shift_min=True,dt=3):\n",
    "    '''\n",
    "    Load spot centers from a file and return a dictionary where each key\n",
    "    is a frame number\n",
    "    '''\n",
    "    from collections import defaultdict\n",
    "    dict_spots = defaultdict(lambda: [])\n",
    "    spots_reflections_raw=np.loadtxt(filename)\n",
    "    \n",
    "    if dt<1 :\n",
    "        spots_reflections_raw[:,2]*=10\n",
    "        spots_reflections_raw=round_time(spots_reflections_raw,dt*10)\n",
    "    else:\n",
    "        # round only time up and down\n",
    "        if timerounded:\n",
    "            spots_reflections_raw=round_time(spots_reflections_raw,dt)\n",
    "    \n",
    "    # get unique frames\n",
    "    # frames=set(rounded_spots[:,2])\n",
    "    frames=set(spots_reflections_raw[:,2].astype(int))\n",
    "    min_framenum=0\n",
    "    if shift_min:\n",
    "        min_framenum=min(frames)\n",
    "    \n",
    "    for fr in tqdm(frames):\n",
    "        dict_spots[fr-min_framenum]=match_spots_frame_expanded(spots_reflections_raw,fr)\n",
    "    \n",
    "    return dict_spots"
   ]
  },
  {
   "cell_type": "code",
   "execution_count": 52,
   "id": "ef2daf1e-73a0-41d7-858a-2d4412b53a91",
   "metadata": {},
   "outputs": [
    {
     "name": "stderr",
     "output_type": "stream",
     "text": [
      "100%|█████████████████████████████████████████████████████████████████████| 900/900 [01:15<00:00, 11.90it/s]\n"
     ]
    }
   ],
   "source": [
    "os.system(\"awk '!/!/{print $6,$7,$8}' XDS_ASCII.HKL > ./preds_XDS\")\n",
    "\n",
    "# choose here a proper time window\n",
    "ddi=get_list_spots_fromfile(\"preds_XDS\",timerounded=True,shift_min=True,dt=1)"
   ]
  },
  {
   "cell_type": "code",
   "execution_count": 53,
   "id": "c90ff61b-25d4-4183-95d8-3d0e9080798b",
   "metadata": {},
   "outputs": [
    {
     "data": {
      "text/plain": [
       "0"
      ]
     },
     "execution_count": 53,
     "metadata": {},
     "output_type": "execute_result"
    }
   ],
   "source": [
    "os.system(\"rm ./preds_XDS\")"
   ]
  },
  {
   "cell_type": "markdown",
   "id": "4e5d9d87-0320-443d-969c-5fc32956ebaf",
   "metadata": {},
   "source": [
    "## TURN THEM INTO 3D"
   ]
  },
  {
   "cell_type": "code",
   "execution_count": 54,
   "id": "8168a0d0-0e10-4da9-8d4f-d53e1654c771",
   "metadata": {},
   "outputs": [
    {
     "name": "stderr",
     "output_type": "stream",
     "text": [
      "100%|█████████████████████████████████████████████████████████████████████| 900/900 [00:33<00:00, 27.10it/s]\n"
     ]
    },
    {
     "data": {
      "text/plain": [
       "0"
      ]
     },
     "execution_count": 54,
     "metadata": {},
     "output_type": "execute_result"
    }
   ],
   "source": [
    "import os\n",
    "\n",
    "pdbs=[]   \n",
    "for FR in tqdm(ddi.keys()):\n",
    "    ii=np.full(len(ddi[FR]),FR)\n",
    "    oo=np.vstack([ii,ii]).T\n",
    "    rr=np.hstack([ddi[FR],oo])\n",
    "\n",
    "    np.savetxt(\"./SPOTtmp.XDS\",rr)\n",
    "    os.system(\"spot2pdb -r 0.1 -s ./SPOTtmp.XDS -x XPARM_norotation.XDS > /dev/null 2>&1\")\n",
    "    os.system(\"awk '!/ATOM/{{print $0}}' ./SPOT-notindexed.pdb > ./{:06d}.pdb\".format(FR))\n",
    "    #os.system(\"echo 'END' >> ./{:06d}.pdb\".format(FR))\n",
    "    os.system(\"rm ./SPOT-notindexed.pdb ./SPOT-indexed.pdb\")\n",
    "    \n",
    "    pdbtmp=[]\n",
    "    with open(\"./{:06d}.pdb\".format(FR), \"r\") as file:\n",
    "        pdb_lines = file.read()\n",
    "    for line in pdb_lines.split('\\n'):\n",
    "        #print(line)\n",
    "        if len(line)<10:\n",
    "            continue\n",
    "        if (line.split()[0]=='HETATM'):\n",
    "            x=np.float(line[30:38])\n",
    "            y=np.float(line[38:46])\n",
    "            z=np.float(line[46:54])\n",
    "            pdbtmp.append([x,y,z])\n",
    "                    \n",
    "    pdbs.append(pdbtmp)\n",
    "\n",
    "os.system(\"rm 0*.pdb\")\n"
   ]
  },
  {
   "cell_type": "markdown",
   "id": "71dbeb9c-54f2-4c3c-8cc8-d15f010a0c88",
   "metadata": {},
   "source": [
    "### VISUALIZE THE EVOLUTION OF THE SPOTS"
   ]
  },
  {
   "cell_type": "code",
   "execution_count": 56,
   "id": "71f7a29b-9d5b-4b57-9385-41ef1e4fc565",
   "metadata": {},
   "outputs": [],
   "source": [
    "import ase\n",
    "traj=[]\n",
    "for fr in pdbs:\n",
    "    traj.append(ase.Atoms(np.full(len(fr),\"N\"),positions=fr))"
   ]
  },
  {
   "cell_type": "code",
   "execution_count": 57,
   "id": "2c29d423-b03a-4003-af5e-400d798af84a",
   "metadata": {},
   "outputs": [
    {
     "data": {
      "text/plain": [
       "<subprocess.Popen at 0x7f23c5587350>"
      ]
     },
     "execution_count": 57,
     "metadata": {},
     "output_type": "execute_result"
    }
   ],
   "source": [
    "from ase.visualize import view\n",
    "\n",
    "view(traj)"
   ]
  },
  {
   "cell_type": "markdown",
   "id": "07ef9af0-4954-4561-924e-a8a1e796b400",
   "metadata": {},
   "source": [
    "## Save the points"
   ]
  },
  {
   "cell_type": "code",
   "execution_count": 55,
   "id": "ea53f207-fbaf-4105-b80d-0f45f061fe1b",
   "metadata": {},
   "outputs": [],
   "source": [
    "np.save(\"idealBraggs-XDS.npy\",pdbs)"
   ]
  },
  {
   "cell_type": "code",
   "execution_count": 2,
   "id": "6dab634d-a94a-4641-b151-16b5fd9f3175",
   "metadata": {},
   "outputs": [],
   "source": [
    "import numpy as np\n",
    "from matplotlib.animation import FuncAnimation\n",
    "import numpy as np\n",
    "import matplotlib.pyplot as plt\n",
    "from mpl_toolkits import mplot3d\n",
    "%matplotlib qt"
   ]
  },
  {
   "cell_type": "code",
   "execution_count": 34,
   "id": "9ea6438c-3ab9-4fbf-8b9c-bf8d05b788ba",
   "metadata": {},
   "outputs": [
    {
     "name": "stderr",
     "output_type": "stream",
     "text": [
      "libGL error: MESA-LOADER: failed to open radeonsi: /home/piero/.pyenv/versions/miniconda3-latest/envs/spots2reciprocal/lib/python3.7/site-packages/zmq/backend/cython/../../../../.././libstdc++.so.6: version `GLIBCXX_3.4.30' not found (required by /usr/lib/dri/radeonsi_dri.so) (search paths /usr/lib/dri, suffix _dri)\n",
      "libGL error: failed to load driver: radeonsi\n",
      "libGL error: MESA-LOADER: failed to open radeonsi: /home/piero/.pyenv/versions/miniconda3-latest/envs/spots2reciprocal/lib/python3.7/site-packages/zmq/backend/cython/../../../../.././libstdc++.so.6: version `GLIBCXX_3.4.30' not found (required by /usr/lib/dri/radeonsi_dri.so) (search paths /usr/lib/dri, suffix _dri)\n",
      "libGL error: failed to load driver: radeonsi\n",
      "libGL error: MESA-LOADER: failed to open swrast: /home/piero/.pyenv/versions/miniconda3-latest/envs/spots2reciprocal/lib/python3.7/site-packages/zmq/backend/cython/../../../../.././libstdc++.so.6: version `GLIBCXX_3.4.30' not found (required by /usr/lib/dri/swrast_dri.so) (search paths /usr/lib/dri, suffix _dri)\n",
      "libGL error: failed to load driver: swrast\n"
     ]
    }
   ],
   "source": [
    "axes = plt.axes(projection = '3d')\n",
    "xyz=np.asarray(pdbs[450])\n",
    "axes.scatter3D(xyz[:,0], xyz[:,1], xyz[:,2])\n",
    "plt.show()"
   ]
  },
  {
   "cell_type": "code",
   "execution_count": 35,
   "id": "f5414670-d8eb-438e-9082-051bbad5345c",
   "metadata": {},
   "outputs": [],
   "source": [
    "ideals = np.load(\"idealBraggs-XDS.npy\", allow_pickle=True)\n",
    "axes = plt.axes(projection = '3d')\n",
    "xyz=np.asarray(ideals[450])\n",
    "axes.scatter3D(xyz[:,0], xyz[:,1], xyz[:,2])\n",
    "plt.show()"
   ]
  },
  {
   "cell_type": "code",
   "execution_count": 31,
   "id": "b7432a55-c4dc-4019-9e18-570651685783",
   "metadata": {},
   "outputs": [],
   "source": [
    "import ase\n",
    "traj=[]\n",
    "for fr in ideals: \n",
    "    traj.append(ase.Atoms(np.full(len(fr),\"N\"),positions=fr))"
   ]
  },
  {
   "cell_type": "code",
   "execution_count": 32,
   "id": "91ce105f-8485-4ce3-8880-678433ea2645",
   "metadata": {},
   "outputs": [
    {
     "data": {
      "text/plain": [
       "<subprocess.Popen at 0x7fc00f9deb10>"
      ]
     },
     "execution_count": 32,
     "metadata": {},
     "output_type": "execute_result"
    }
   ],
   "source": [
    "view(traj)"
   ]
  },
  {
   "cell_type": "code",
   "execution_count": 30,
   "id": "a3c18d31-a2bc-4017-8a3f-32f46bd9363e",
   "metadata": {},
   "outputs": [
    {
     "data": {
      "text/plain": [
       "True"
      ]
     },
     "execution_count": 30,
     "metadata": {},
     "output_type": "execute_result"
    }
   ],
   "source": [
    "ideals[450] == pdbs[450]"
   ]
  }
 ],
 "metadata": {
  "kernelspec": {
   "display_name": "Python 3 (ipykernel)",
   "language": "python",
   "name": "python3"
  },
  "language_info": {
   "codemirror_mode": {
    "name": "ipython",
    "version": 3
   },
   "file_extension": ".py",
   "mimetype": "text/x-python",
   "name": "python",
   "nbconvert_exporter": "python",
   "pygments_lexer": "ipython3",
   "version": "3.7.4"
  }
 },
 "nbformat": 4,
 "nbformat_minor": 5
}
